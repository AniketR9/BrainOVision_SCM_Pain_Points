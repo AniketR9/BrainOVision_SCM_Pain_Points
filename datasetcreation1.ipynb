{
 "cells": [
  {
   "cell_type": "code",
   "execution_count": 1,
   "metadata": {},
   "outputs": [],
   "source": [
    "import pandas as pd\n",
    "import numpy as np\n",
    "import matplotlib.pyplot as plt\n",
    "import seaborn as sns\n",
    "from datetime import datetime"
   ]
  },
  {
   "cell_type": "code",
   "execution_count": 3,
   "metadata": {},
   "outputs": [],
   "source": [
    "# Define the number of transactions\n",
    "num_transactions = 1000\n",
    "\n",
    "# Generate sample data for the travel_details dataset\n",
    "vendor_ids = np.random.choice(np.arange(1000, 1016), size=num_transactions, replace=True)\n",
    "transport_types = np.random.choice(['Roadways', 'Railways', 'Waterways'], size=num_transactions)\n",
    "transaction_dates = [datetime(2022, np.random.randint(1, 13), np.random.randint(1, 29)) for _ in range(num_transactions)]\n",
    "goods_types = np.random.choice(['Oil', 'Coal', 'Natural Gas'], size=num_transactions)\n",
    "committed_quantity = np.random.randint(1000, 5000, size=num_transactions)\n",
    "committed_timeline = np.random.randint(1, 10, size=num_transactions)\n",
    "committed_cost = np.random.randint(10000000, 50000000, size=num_transactions)\n",
    "actual_timeline = committed_timeline + np.random.randint(1, 5, size=num_transactions)\n",
    "actual_cost = committed_cost + np.random.randint(100000, 500000, size=num_transactions)\n",
    "actual_quantity = np.random.randint(0.8 * committed_quantity, committed_quantity, size=num_transactions)\n"
   ]
  },
  {
   "cell_type": "code",
   "execution_count": 4,
   "metadata": {},
   "outputs": [],
   "source": [
    "# Ensure actual quantity is lesser than committed quantity\n",
    "actual_quantity = np.minimum(actual_quantity, committed_quantity)\n",
    "\n",
    "# Ensure actual timeline is greater than committed timeline\n",
    "actual_timeline = np.maximum(actual_timeline, committed_timeline)\n",
    "\n",
    "# Ensure actual cost is greater than committed cost\n",
    "actual_cost = np.maximum(actual_cost, committed_cost)"
   ]
  },
  {
   "cell_type": "code",
   "execution_count": 5,
   "metadata": {},
   "outputs": [],
   "source": [
    "# Create DataFrame for travel_details dataset\n",
    "travel_details = pd.DataFrame({\n",
    "    'Goods': goods_types,\n",
    "    'Committed Quantity': committed_quantity,\n",
    "    'Committed Timeline': committed_timeline,\n",
    "    'Committed Cost': committed_cost,\n",
    "    'Actual Timeline': actual_timeline,\n",
    "    'Actual Cost': actual_cost,\n",
    "    'Actual Quantity': actual_quantity,\n",
    "    'Transaction Date': transaction_dates,\n",
    "    'Transport Type': transport_types,\n",
    "    'Vendor ID': vendor_ids\n",
    "})"
   ]
  },
  {
   "cell_type": "code",
   "execution_count": 6,
   "metadata": {},
   "outputs": [],
   "source": [
    "# Derive delay from actual and committed timelines\n",
    "travel_details['Delay'] = travel_details['Actual Timeline'] - travel_details['Committed Timeline']\n",
    "\n",
    "# Derive month and quarter from the transaction date\n",
    "travel_details['Month'] = travel_details['Transaction Date'].dt.month\n",
    "travel_details['Quarter'] = travel_details['Transaction Date'].dt.quarter"
   ]
  },
  {
   "cell_type": "code",
   "execution_count": 7,
   "metadata": {},
   "outputs": [],
   "source": [
    "travel_details['Committed Cost']/=10**7\n",
    "travel_details['Actual Cost']/=10**7"
   ]
  },
  {
   "cell_type": "code",
   "execution_count": 8,
   "metadata": {},
   "outputs": [],
   "source": [
    "travel_details.to_csv('final_transport.csv', index=False)"
   ]
  },
  {
   "cell_type": "code",
   "execution_count": 9,
   "metadata": {},
   "outputs": [],
   "source": [
    "# Define the number of vendors\n",
    "num_vendors = 15\n",
    "\n",
    "# Generate sample data for the vendor dataset\n",
    "vendor_data = {\n",
    "    'Vendor ID': np.arange(1001, 1016),\n",
    "    'Vendor Name': ['Vendor' + str(i) for i in range(1, num_vendors + 1)],\n",
    "    'Year of Establishment': np.random.randint(1950, 2004, size=num_vendors),\n",
    "    'Total Volume': np.random.randint(300000, 800000, size=num_vendors),\n",
    "    'Days for Payment Clearance': np.random.choice(np.arange(15, 61, step=15), size=num_vendors),\n",
    "    'Consistency': np.random.randint(1, 5, size=num_vendors),  # Assuming a scale of 1 to 5\n",
    "    'Number of Sources': np.random.randint(25, 100, size=num_vendors)\n",
    "}\n",
    "\n",
    "# Create DataFrame for vendor dataset\n",
    "vendor_df = pd.DataFrame(vendor_data)\n"
   ]
  },
  {
   "cell_type": "code",
   "execution_count": 10,
   "metadata": {},
   "outputs": [],
   "source": [
    "vendor_df['Experience']=2024-vendor_df['Year of Establishment']"
   ]
  },
  {
   "cell_type": "code",
   "execution_count": 11,
   "metadata": {},
   "outputs": [],
   "source": [
    "# Compute the sum of actual quantity by vendor ID in travel_details\n",
    "actual_quantity_sum_by_vendor = travel_details.groupby('Vendor ID')['Actual Quantity'].sum().reset_index()\n",
    "\n",
    "# Merge the sum of actual quantity with vendor_df\n",
    "vendor_df = pd.merge(vendor_df, actual_quantity_sum_by_vendor, on='Vendor ID', how='left')\n",
    "\n",
    "# Rename the column to indicate it represents the sum of actual quantity\n",
    "vendor_df.rename(columns={'Actual Quantity': 'Total Actual Quantity'}, inplace=True)"
   ]
  },
  {
   "cell_type": "code",
   "execution_count": 12,
   "metadata": {},
   "outputs": [],
   "source": [
    "vendor_df['Remaining Volume']=vendor_df['Total Volume']-vendor_df['Total Actual Quantity']"
   ]
  },
  {
   "cell_type": "code",
   "execution_count": 14,
   "metadata": {},
   "outputs": [],
   "source": [
    "actual_quantity_sum_by_vendor = travel_details.groupby('Vendor ID')['Actual Cost'].sum().reset_index()\n",
    "vendor_df = pd.merge(vendor_df, actual_quantity_sum_by_vendor, on='Vendor ID', how='left')\n",
    "vendor_df.rename(columns={'Actual Cost': 'Total Revenue'}, inplace=True)"
   ]
  },
  {
   "cell_type": "code",
   "execution_count": 15,
   "metadata": {},
   "outputs": [],
   "source": [
    "vendor_df.to_csv('vendor.csv',index=False)"
   ]
  }
 ],
 "metadata": {
  "kernelspec": {
   "display_name": "base",
   "language": "python",
   "name": "python3"
  },
  "language_info": {
   "codemirror_mode": {
    "name": "ipython",
    "version": 3
   },
   "file_extension": ".py",
   "mimetype": "text/x-python",
   "name": "python",
   "nbconvert_exporter": "python",
   "pygments_lexer": "ipython3",
   "version": "3.11.5"
  }
 },
 "nbformat": 4,
 "nbformat_minor": 2
}
